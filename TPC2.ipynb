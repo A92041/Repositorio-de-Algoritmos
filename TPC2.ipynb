{
 "cells": [
  {
   "cell_type": "markdown",
   "id": "ce642d88",
   "metadata": {},
   "source": [
    "## Manifesto TPC2\n",
    "* Identificador: Algoritmos e Técnicas de Programação\n",
    "* Título: Lights Out!\n",
    "* Data de início: 2023-09-19\n",
    "* Data de fim: 2023-09-20\n",
    "* Supervisor:José Carlos Leite Ramalho, jcr@di.uminho.pt\n",
    "* Autor: Marta Cristina Nunes Silva A92041\n",
    "* Resumo: Este trabalho tem como objetivo criar um jogo em que uma estrela aparece esporadicamente num céu noturno, cujo objetivo é apanhar a estrela 10 vezes, apresentando no final o tempo em que apanhámos a estrela 10 vezes. "
   ]
  },
  {
   "cell_type": "code",
   "execution_count": null,
   "id": "5cce0152",
   "metadata": {},
   "outputs": [],
   "source": []
  }
 ],
 "metadata": {
  "kernelspec": {
   "display_name": "Python 3 (ipykernel)",
   "language": "python",
   "name": "python3"
  },
  "language_info": {
   "codemirror_mode": {
    "name": "ipython",
    "version": 3
   },
   "file_extension": ".py",
   "mimetype": "text/x-python",
   "name": "python",
   "nbconvert_exporter": "python",
   "pygments_lexer": "ipython3",
   "version": "3.11.4"
  }
 },
 "nbformat": 4,
 "nbformat_minor": 5
}
