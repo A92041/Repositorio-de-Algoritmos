{
 "cells": [
  {
   "cell_type": "markdown",
   "id": "71f27fb3",
   "metadata": {},
   "source": [
    "# Manifesto TPC8\n",
    "\n",
    "## Algoritmos\n",
    "\n",
    "* Título: Teste de aferição e a Rede Social\n",
    "* Data de início: 2023-10-31\n",
    "* Data de fim: 2023-11-07\n",
    "* Supervisor:José Carlos Leite Ramalho, jcr@di.uminho.pt\n",
    "* Autor: Marta Cristina Nunes Silva A92041\n",
    "* Resumo: Este trabalho tem como objetivo resolver os problemas seguintes:\n",
    "#### tpc-1. Especifique as seguintes listas em compreensão:\n",
    "##### a) Lista formada pelos elementos que não são comuns às duas listas:"
   ]
  },
  {
   "cell_type": "code",
   "execution_count": 1,
   "id": "b3ee1395",
   "metadata": {},
   "outputs": [
    {
     "name": "stdout",
     "output_type": "stream",
     "text": [
      "[1, 2, 3, 6, 7, 8]\n"
     ]
    }
   ],
   "source": [
    "lista1 = [1, 2, 3, 4, 5]\n",
    "lista2 = [4, 5, 6, 7, 8]\n",
    "\n",
    "conjunto1 = set(lista1)\n",
    "conjunto2 = set(lista2)\n",
    "\n",
    "resultado = list(conjunto1 ^ conjunto2)\n",
    "\n",
    "print(resultado)"
   ]
  },
  {
   "cell_type": "markdown",
   "id": "07b995e0",
   "metadata": {},
   "source": [
    "##### b) Lista formada pelas palavras do texto compostas por mais de 3 letras:"
   ]
  },
  {
   "cell_type": "code",
   "execution_count": 3,
   "id": "cb24f365",
   "metadata": {},
   "outputs": [
    {
     "name": "stdout",
     "output_type": "stream",
     "text": [
      "['Vivia', 'poucos', 'anos', 'algures', 'concelho', 'Ribatejo', 'pequeno', 'lavrador', 'negociante', 'gado', 'chamado', 'Manuel', 'Peres', 'Vigário']\n"
     ]
    }
   ],
   "source": [
    "texto = \"\"\"Vivia há já não poucos anos algures num concelho do Ribatejo \n",
    "um pequeno lavrador e negociante de gado chamado Manuel Peres Vigário\"\"\"\n",
    "\n",
    "palavras = texto.split()\n",
    "\n",
    "palavras_mais_de_3_letras = [palavra for palavra in palavras if len(palavra) > 3]\n",
    "\n",
    "print(palavras_mais_de_3_letras)\n"
   ]
  },
  {
   "cell_type": "markdown",
   "id": "09e0e37f",
   "metadata": {},
   "source": [
    "##### c) Lista formada por pares do tipo (índice, valor) com os valores da lista dada:\n"
   ]
  },
  {
   "cell_type": "code",
   "execution_count": 4,
   "id": "f9b9a012",
   "metadata": {},
   "outputs": [
    {
     "name": "stdout",
     "output_type": "stream",
     "text": [
      "[(1, 'anaconda'), (2, 'burro'), (3, 'cavalo'), (4, 'macaco')]\n"
     ]
    }
   ],
   "source": [
    "lista = ['anaconda', 'burro', 'cavalo', 'macaco']\n",
    "\n",
    "# Usar enumerate para criar a lista de pares (índice, valor)\n",
    "listaRes = [(indice + 1, valor) for indice, valor in enumerate(lista)]\n",
    "\n",
    "print(listaRes)"
   ]
  },
  {
   "cell_type": "markdown",
   "id": "77ab8662",
   "metadata": {},
   "source": [
    "#### tpc-2. À semelhança do que foi feito nas aulas, realize as seguintes tarefas:"
   ]
  },
  {
   "cell_type": "markdown",
   "id": "108435e6",
   "metadata": {},
   "source": [
    "##### a) Especifique uma função que dada uma string e uma substring não vazia, calcula  o número de vezes em que a substring aparece na string, sem que haja sobreposição de substrings:"
   ]
  },
  {
   "cell_type": "code",
   "execution_count": 6,
   "id": "4f12439d",
   "metadata": {},
   "outputs": [
    {
     "name": "stdout",
     "output_type": "stream",
     "text": [
      "2\n",
      "1\n",
      "0\n"
     ]
    }
   ],
   "source": [
    "def strCount(s, subs):\n",
    "    count = 0\n",
    "    index = 0\n",
    "    while index < len(s):\n",
    "        index = s.find(subs, index)\n",
    "        if index == -1:\n",
    "            break\n",
    "        count += 1\n",
    "        index += len(subs)\n",
    "    return count\n",
    "\n",
    "print(strCount(\"catcowcat\", \"cat\"))  # Resultado esperado: 2\n",
    "print(strCount(\"catcowcat\", \"cow\"))  # Resultado esperado: 1\n",
    "print(strCount(\"catcowcat\", \"dog\"))  # Resultado esperado: 0"
   ]
  },
  {
   "cell_type": "markdown",
   "id": "41c620cb",
   "metadata": {},
   "source": [
    "##### b) Especifique uma função que recebe uma lista de números inteiros positivos e devolve o menor produto que for possível calcular multiplicando os 3 menores inteiros da lista:"
   ]
  },
  {
   "cell_type": "code",
   "execution_count": 8,
   "id": "2b3c8bc5",
   "metadata": {},
   "outputs": [
    {
     "name": "stdout",
     "output_type": "stream",
     "text": [
      "168\n"
     ]
    }
   ],
   "source": [
    "def produtoM3(lista):\n",
    "    \n",
    "    if len(lista) < 3:\n",
    "        return \"A lista deve ter pelo menos 3 elementos.\"\n",
    "    \n",
    "    lista.sort()\n",
    "    produto = lista[0] * lista[1] * lista[2]\n",
    "    return produto\n",
    "\n",
    "\n",
    "print(produtoM3([12, 3, 7, 10, 12, 8, 9]))"
   ]
  },
  {
   "cell_type": "markdown",
   "id": "855029bc",
   "metadata": {},
   "source": [
    "##### c) Especifique uma função que dado um número inteiro positivo, repetidamente adiciona os seus dígitos até obter apenas um dígito que é retornado como resultado:"
   ]
  },
  {
   "cell_type": "code",
   "execution_count": 9,
   "id": "33669323",
   "metadata": {
    "scrolled": true
   },
   "outputs": [
    {
     "name": "stdout",
     "output_type": "stream",
     "text": [
      "2\n",
      "3\n"
     ]
    }
   ],
   "source": [
    "def reduxInt(n):\n",
    "    while n >= 10:\n",
    "        soma_digitos = 0\n",
    "        while n > 0:\n",
    "            soma_digitos += n % 10\n",
    "            n //= 10\n",
    "        n = soma_digitos\n",
    "    return n\n",
    "\n",
    "print(reduxInt(38))  \n",
    "print(reduxInt(777))  "
   ]
  },
  {
   "cell_type": "markdown",
   "id": "79c8c7c8",
   "metadata": {},
   "source": [
    "### tpc-3. A Rede Social\n",
    "\n",
    "Considere que a informação sobre uma rede social está armazenada numa lista de dicionários.\n",
    "\n",
    "Cada dicionário, correspondente a um _post_ e tem chaves `id`, `conteudo`, `autor`, `dataCriacao` e `comentarios`.\n",
    "Por sua vez, `comentarios` é uma lista de dicionários com chaves `comentario` e `autor`.\n",
    "\n",
    "Considere o seguinte exemplo:\n",
    "\n",
    "``` \n",
    "    MyFaceBook = [{\n",
    "        'id': 'p1', \n",
    "        'conteudo': 'A tarefa de avaliação é talvez a mais ingrata das tarefas que um professor\n",
    "    tem de realizar...', \n",
    "        'autor': 'jcr', \n",
    "        'dataCriacao': '2023-07-20', \n",
    "        'comentarios': [\n",
    "            {\n",
    "                'comentario': 'Completamente de acordo...',\n",
    "                'autor': 'prh'\n",
    "            },\n",
    "            {\n",
    "                'comentario': 'Mas há quem goste...',\n",
    "                'autor': 'jj'\n",
    "            }\n",
    "        ]},\n",
    "        {\n",
    "            'id': 'p2',\n",
    "            ...\n",
    "        },\n",
    "        ...\n",
    "        ]\n",
    "```"
   ]
  },
  {
   "cell_type": "markdown",
   "id": "e383f616",
   "metadata": {},
   "source": [
    "Defina as seguintes funções de manipulação e consulta da rede social:"
   ]
  },
  {
   "cell_type": "markdown",
   "id": "85522a95",
   "metadata": {},
   "source": [
    "##### a) `quantosPost`, que indica quantos posts estão registados:\n"
   ]
  },
  {
   "cell_type": "code",
   "execution_count": 14,
   "id": "ee1ffafc",
   "metadata": {},
   "outputs": [
    {
     "name": "stdout",
     "output_type": "stream",
     "text": [
      "2\n"
     ]
    }
   ],
   "source": [
    "def quantosPost(redeSocial):\n",
    "    return len(redeSocial)\n",
    "\n",
    "# Exemplo de uso:\n",
    "MyFaceBook = [\n",
    "    {\n",
    "        'id': 'p1',\n",
    "        'conteudo': 'A tarefa de avaliação é talvez a mais ingrata das tarefas que um professor tem de realizar...',\n",
    "        'autor': 'jcr',\n",
    "        'dataCriacao': '2023-07-20',\n",
    "        'comentarios': [\n",
    "            {\n",
    "                'comentario': 'Completamente de acordo...',\n",
    "                'autor': 'prh'\n",
    "            },\n",
    "            {\n",
    "                'comentario': 'Mas há quem goste...',\n",
    "                'autor': 'jj'\n",
    "            }\n",
    "        ]\n",
    "    },\n",
    "    {\n",
    "        'id': 'p2',\n",
    "        # ... Outros posts\n",
    "    }\n",
    "]\n",
    "\n",
    "print(quantosPost(MyFaceBook))"
   ]
  },
  {
   "cell_type": "markdown",
   "id": "d822fd51",
   "metadata": {},
   "source": [
    "##### b)  `postsAutor`, que devolve a lista de posts de um determinado autor:"
   ]
  },
  {
   "cell_type": "code",
   "execution_count": 4,
   "id": "a758ca99",
   "metadata": {},
   "outputs": [
    {
     "name": "stdout",
     "output_type": "stream",
     "text": [
      "{'id': 'p1', 'conteudo': 'A tarefa de avaliação é talvez a mais ingrata das tarefas que um professor tem de realizar...', 'autor': 'jcr', 'dataCriacao': '2023-07-20', 'comentarios': [{'comentario': 'Completamente de acordo...', 'autor': 'prh'}, {'comentario': 'Mas há quem goste...', 'autor': 'jj'}]}\n",
      "{'id': 'p2', 'conteudo': 'Outro post...', 'autor': 'jcr', 'dataCriacao': '2023-07-21', 'comentarios': []}\n"
     ]
    }
   ],
   "source": [
    "def postsAutor(redeSocial, autor_desejado):\n",
    "    posts_do_autor = []\n",
    "    \n",
    "    for post in redeSocial:\n",
    "        if post['autor'] == autor_desejado:\n",
    "            posts_do_autor.append(post)\n",
    "    \n",
    "    return posts_do_autor\n",
    "\n",
    "autor_desejado = 'jcr'\n",
    "posts_do_autor = postsAutor(MyFaceBook, autor_desejado)\n",
    "\n",
    "for post in posts_do_autor:\n",
    "    print(post)"
   ]
  },
  {
   "cell_type": "markdown",
   "id": "08193256",
   "metadata": {},
   "source": [
    "##### c) `autores`, que devolve a lista de autores de posts ordenada alfabeticamente:"
   ]
  },
  {
   "cell_type": "code",
   "execution_count": 5,
   "id": "5a641509",
   "metadata": {},
   "outputs": [
    {
     "name": "stdout",
     "output_type": "stream",
     "text": [
      "['jcr', 'outroautor']\n"
     ]
    }
   ],
   "source": [
    "def autores(redeSocial):\n",
    "    lista_autores = set()  # Usamos um conjunto para evitar duplicatas\n",
    "\n",
    "    for post in redeSocial:\n",
    "        lista_autores.add(post['autor'])\n",
    "    \n",
    "    lista_autores_ordenada = sorted(lista_autores)\n",
    "    \n",
    "    return lista_autores_ordenada\n",
    "\n",
    "autores_ordenados = autores(MyFaceBook)\n",
    "print(autores_ordenados)\n"
   ]
  },
  {
   "cell_type": "markdown",
   "id": "5ec1ee13",
   "metadata": {},
   "source": [
    "##### d) `insPost`, que acrescenta um novo post à rede social a partir dos parâmetros recebidos e devolve a nova rede social. \n",
    "    \n",
    "O campo `id` devrá ser calculado a partir dos já existentes, por exemplo, se a rede tiver posts com id `p1`, `p2` e `p3`, o novo `id` deverá ser `p4`."
   ]
  },
  {
   "cell_type": "code",
   "execution_count": 6,
   "id": "76b1d438",
   "metadata": {},
   "outputs": [
    {
     "name": "stdout",
     "output_type": "stream",
     "text": [
      "{'id': 'p1', 'conteudo': 'A tarefa de avaliação é talvez a mais ingrata das tarefas que um professor tem de realizar...', 'autor': 'jcr', 'dataCriacao': '2023-07-20', 'comentarios': [{'comentario': 'Completamente de acordo...', 'autor': 'prh'}, {'comentario': 'Mas há quem goste...', 'autor': 'jj'}]}\n",
      "{'id': 'p2', 'conteudo': 'Outro post...', 'autor': 'jcr', 'dataCriacao': '2023-07-21', 'comentarios': []}\n",
      "{'id': 'p3', 'conteudo': 'Um post de outro autor...', 'autor': 'outroautor', 'dataCriacao': '2023-07-22', 'comentarios': []}\n",
      "{'id': 'p4', 'conteudo': 'Um novo post!', 'autor': 'novousuario', 'dataCriacao': '2023-07-23', 'comentarios': []}\n"
     ]
    }
   ],
   "source": [
    "def insPost(redeSocial, conteudo, autor, dataCriacao, comentarios):\n",
    "    ids_existentes = [post['id'] for post in redeSocial]\n",
    "    proximo_id = 'p1'  # O id inicial\n",
    "    if ids_existentes:\n",
    "        maior_id = max(ids_existentes)\n",
    "        numero_id = int(maior_id[1:]) + 1\n",
    "        proximo_id = 'p' + str(numero_id)\n",
    "    novo_post = {\n",
    "        'id': proximo_id,\n",
    "        'conteudo': conteudo,\n",
    "        'autor': autor,\n",
    "        'dataCriacao': dataCriacao,\n",
    "        'comentarios': comentarios\n",
    "    }\n",
    "    redeSocial.append(novo_post)\n",
    "    return redeSocial\n",
    "\n",
    "novo_conteudo = 'Um novo post!'\n",
    "novo_autor = 'novousuario'\n",
    "nova_dataCriacao = '2023-07-23'\n",
    "novos_comentarios = []\n",
    "\n",
    "MyFaceBook = insPost(MyFaceBook, novo_conteudo, novo_autor, nova_dataCriacao, novos_comentarios)\n",
    "\n",
    "for post in MyFaceBook:\n",
    "    print(post)"
   ]
  },
  {
   "cell_type": "markdown",
   "id": "db770463",
   "metadata": {},
   "source": [
    "##### e)  `remPost`, que remove um post da rede, correspondente ao `id` recebido."
   ]
  },
  {
   "cell_type": "code",
   "execution_count": 7,
   "id": "c7d8959b",
   "metadata": {},
   "outputs": [
    {
     "name": "stdout",
     "output_type": "stream",
     "text": [
      "{'id': 'p2', 'conteudo': 'Outro post...', 'autor': 'jcr', 'dataCriacao': '2023-07-21', 'comentarios': []}\n",
      "{'id': 'p3', 'conteudo': 'Um post de outro autor...', 'autor': 'outroautor', 'dataCriacao': '2023-07-22', 'comentarios': []}\n",
      "{'id': 'p4', 'conteudo': 'Um novo post!', 'autor': 'novousuario', 'dataCriacao': '2023-07-23', 'comentarios': []}\n"
     ]
    }
   ],
   "source": [
    "def remPost(redeSocial, id_a_remover):\n",
    "    for post in redeSocial:\n",
    "        if post['id'] == id_a_remover:\n",
    "            redeSocial.remove(post)\n",
    "            return redeSocial \n",
    "    return \"Post não encontrado\"\n",
    "\n",
    "id_a_remover = 'p1'\n",
    "\n",
    "resultado = remPost(MyFaceBook, id_a_remover)\n",
    "if resultado == \"Post não encontrado\":\n",
    "    print(resultado)\n",
    "else:\n",
    "    for post in resultado:\n",
    "        print(post)"
   ]
  },
  {
   "cell_type": "markdown",
   "id": "1cddf401",
   "metadata": {},
   "source": [
    "##### f) `postsPorAutor`, que devolve uma distribuição de posts por autor (à semelhança do que foi feito nas aulas)."
   ]
  },
  {
   "cell_type": "code",
   "execution_count": 8,
   "id": "4903cc42",
   "metadata": {},
   "outputs": [
    {
     "name": "stdout",
     "output_type": "stream",
     "text": [
      "Autor: jcr, Número de Posts: 1\n",
      "Autor: outroautor, Número de Posts: 1\n",
      "Autor: novousuario, Número de Posts: 1\n"
     ]
    }
   ],
   "source": [
    "def postsPorAutor(redeSocial):\n",
    "    distribuicao = {}\n",
    "\n",
    "    for post in redeSocial:\n",
    "        autor = post['autor']\n",
    "        if autor in distribuicao:\n",
    "            distribuicao[autor] += 1\n",
    "        else:\n",
    "            distribuicao[autor] = 1\n",
    "\n",
    "    return distribuicao\n",
    "\n",
    "distribuicao_posts = postsPorAutor(MyFaceBook)\n",
    "for autor, num_posts in distribuicao_posts.items():\n",
    "    print(f'Autor: {autor}, Número de Posts: {num_posts}')\n"
   ]
  },
  {
   "cell_type": "markdown",
   "id": "a255bd4f",
   "metadata": {},
   "source": [
    "##### g) `comentadoPor`, que recebe um autor e devolve a lista de posts comentados por esse autor."
   ]
  },
  {
   "cell_type": "code",
   "execution_count": 11,
   "id": "469acff8",
   "metadata": {},
   "outputs": [
    {
     "name": "stdout",
     "output_type": "stream",
     "text": [
      "{'id': 'p1', 'conteudo': 'A tarefa de avaliação é talvez a mais ingrata das tarefas que um professor tem de realizar...', 'autor': 'jcr', 'dataCriacao': '2023-07-20', 'comentarios': [{'comentario': 'Completamente de acordo...', 'autor': 'prh'}, {'comentario': 'Mas há quem goste...', 'autor': 'jj'}]}\n"
     ]
    }
   ],
   "source": [
    "def comentadoPor(redeSocial, autor_desejado):\n",
    "    posts_comentados = []\n",
    "\n",
    "    for post in redeSocial:\n",
    "        comentarios = post['comentarios']\n",
    "        for comentario in comentarios:\n",
    "            if comentario['autor'] == autor_desejado:\n",
    "                posts_comentados.append(post)\n",
    "\n",
    "    return posts_comentados\n",
    "\n",
    "autor_desejado = 'jj'\n",
    "posts_comentados_pelo_autor = comentadoPor(MyFaceBook, autor_desejado)\n",
    "for post in posts_comentados_pelo_autor:\n",
    "    print(post)\n"
   ]
  },
  {
   "cell_type": "code",
   "execution_count": null,
   "id": "cbdcf998",
   "metadata": {},
   "outputs": [],
   "source": []
  }
 ],
 "metadata": {
  "kernelspec": {
   "display_name": "Python 3 (ipykernel)",
   "language": "python",
   "name": "python3"
  },
  "language_info": {
   "codemirror_mode": {
    "name": "ipython",
    "version": 3
   },
   "file_extension": ".py",
   "mimetype": "text/x-python",
   "name": "python",
   "nbconvert_exporter": "python",
   "pygments_lexer": "ipython3",
   "version": "3.11.4"
  }
 },
 "nbformat": 4,
 "nbformat_minor": 5
}
