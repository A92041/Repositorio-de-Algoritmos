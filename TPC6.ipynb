{
 "cells": [
  {
   "cell_type": "markdown",
   "id": "3b4af596",
   "metadata": {},
   "source": [
    "# Manifesto TPC6\n",
    "\n",
    "## Algoritmos\n",
    "\n",
    "* Título: Aplicação para Gerir um Cinema\n",
    "* Data de início: 2023-10-17\n",
    "* Data de fim: 2023-10-24\n",
    "* Supervisor:José Carlos Leite Ramalho, jcr@di.uminho.pt\n",
    "* Autor: Marta Cristina Nunes Silva A92041\n",
    "* Resumo: Este trabalho tem como objetivo criar um programa em Python,que desempenhe o seguinte conjunto de funções: uma função que lê a informação do ficheiro para um modelo, previamente pensado em memória;uma função que calcula a distribuição da doença por sexo (tenha atenção que indivíduos doentes e não doentes no dataset); uma função que calcula a distribuição da doença por escalões etários. Considere os seguintes escalões: [0-10], [11-24], [25-29], [30-34], [35-39], [40-44], ... ;uma função que calcula a distribuição da doença por níveis de glucose; uma função que imprime na forma de uma tabela uma distribuição. O programa deve apresentar as informações sob a forma de tabelas."
   ]
  },
  {
   "cell_type": "code",
   "execution_count": 2,
   "id": "4c64ec1c",
   "metadata": {},
   "outputs": [
    {
     "name": "stdout",
     "output_type": "stream",
     "text": [
      "Requirement already satisfied: pandas in c:\\users\\ccnsi\\anaconda4\\lib\\site-packages (1.5.3)\n",
      "Requirement already satisfied: python-dateutil>=2.8.1 in c:\\users\\ccnsi\\appdata\\roaming\\python\\python311\\site-packages (from pandas) (2.8.2)\n",
      "Requirement already satisfied: pytz>=2020.1 in c:\\users\\ccnsi\\anaconda4\\lib\\site-packages (from pandas) (2022.7)\n",
      "Requirement already satisfied: numpy>=1.21.0 in c:\\users\\ccnsi\\anaconda4\\lib\\site-packages (from pandas) (1.24.3)\n",
      "Requirement already satisfied: six>=1.5 in c:\\users\\ccnsi\\appdata\\roaming\\python\\python311\\site-packages (from python-dateutil>=2.8.1->pandas) (1.16.0)\n",
      "Note: you may need to restart the kernel to use updated packages.\n"
     ]
    }
   ],
   "source": [
    "pip install pandas"
   ]
  },
  {
   "cell_type": "code",
   "execution_count": 11,
   "id": "c79a9dda",
   "metadata": {},
   "outputs": [
    {
     "ename": "ValueError",
     "evalue": "Bin labels must be one fewer than the number of bin edges",
     "output_type": "error",
     "traceback": [
      "\u001b[1;31m---------------------------------------------------------------------------\u001b[0m",
      "\u001b[1;31mValueError\u001b[0m                                Traceback (most recent call last)",
      "Cell \u001b[1;32mIn[11], line 48\u001b[0m\n\u001b[0;32m     46\u001b[0m distribuicao_sexo \u001b[38;5;241m=\u001b[39m calcular_distribuicao_por_sexo(dados)\n\u001b[0;32m     47\u001b[0m distribuicao_idade \u001b[38;5;241m=\u001b[39m calcular_distribuicao_por_idade(dados)\n\u001b[1;32m---> 48\u001b[0m distribuicao_glicose \u001b[38;5;241m=\u001b[39m \u001b[43mcalcular_distribuicao_por_glicose\u001b[49m\u001b[43m(\u001b[49m\u001b[43mdados\u001b[49m\u001b[43m)\u001b[49m\n\u001b[0;32m     50\u001b[0m \u001b[38;5;66;03m# Imprime as distribuições\u001b[39;00m\n\u001b[0;32m     51\u001b[0m imprimir_distribuicao(distribuicao_sexo, \u001b[38;5;124m'\u001b[39m\u001b[38;5;124mDistribuição por Sexo\u001b[39m\u001b[38;5;124m'\u001b[39m)\n",
      "Cell \u001b[1;32mIn[11], line 29\u001b[0m, in \u001b[0;36mcalcular_distribuicao_por_glicose\u001b[1;34m(dados, intervalo)\u001b[0m\n\u001b[0;32m     27\u001b[0m bins \u001b[38;5;241m=\u001b[39m \u001b[38;5;28mrange\u001b[39m(min_glicose, max_glicose \u001b[38;5;241m+\u001b[39m intervalo, intervalo)\n\u001b[0;32m     28\u001b[0m labels \u001b[38;5;241m=\u001b[39m [\u001b[38;5;124mf\u001b[39m\u001b[38;5;124m'\u001b[39m\u001b[38;5;132;01m{\u001b[39;00mx\u001b[38;5;132;01m}\u001b[39;00m\u001b[38;5;124m-\u001b[39m\u001b[38;5;132;01m{\u001b[39;00mx\u001b[38;5;241m+\u001b[39mintervalo\u001b[38;5;241m-\u001b[39m\u001b[38;5;241m1\u001b[39m\u001b[38;5;132;01m}\u001b[39;00m\u001b[38;5;124m'\u001b[39m \u001b[38;5;28;01mfor\u001b[39;00m x \u001b[38;5;129;01min\u001b[39;00m bins]\n\u001b[1;32m---> 29\u001b[0m dados[\u001b[38;5;124m'\u001b[39m\u001b[38;5;124mblood_glucose_level\u001b[39m\u001b[38;5;124m'\u001b[39m] \u001b[38;5;241m=\u001b[39m \u001b[43mpd\u001b[49m\u001b[38;5;241;43m.\u001b[39;49m\u001b[43mcut\u001b[49m\u001b[43m(\u001b[49m\u001b[43mdados\u001b[49m\u001b[43m[\u001b[49m\u001b[38;5;124;43m'\u001b[39;49m\u001b[38;5;124;43mblood_glucose_level\u001b[39;49m\u001b[38;5;124;43m'\u001b[39;49m\u001b[43m]\u001b[49m\u001b[43m,\u001b[49m\u001b[43m \u001b[49m\u001b[43mbins\u001b[49m\u001b[38;5;241;43m=\u001b[39;49m\u001b[43mbins\u001b[49m\u001b[43m,\u001b[49m\u001b[43m \u001b[49m\u001b[43mlabels\u001b[49m\u001b[38;5;241;43m=\u001b[39;49m\u001b[43mlabels\u001b[49m\u001b[43m)\u001b[49m\n\u001b[0;32m     30\u001b[0m distribuicao_glicose \u001b[38;5;241m=\u001b[39m dados[\u001b[38;5;124m'\u001b[39m\u001b[38;5;124mblood_glucose_level\u001b[39m\u001b[38;5;124m'\u001b[39m]\u001b[38;5;241m.\u001b[39mvalue_counts()\u001b[38;5;241m.\u001b[39msort_index()\n\u001b[0;32m     31\u001b[0m \u001b[38;5;28;01mreturn\u001b[39;00m distribuicao_glicose\n",
      "File \u001b[1;32m~\\anaconda4\\Lib\\site-packages\\pandas\\core\\reshape\\tile.py:293\u001b[0m, in \u001b[0;36mcut\u001b[1;34m(x, bins, right, labels, retbins, precision, include_lowest, duplicates, ordered)\u001b[0m\n\u001b[0;32m    290\u001b[0m     \u001b[38;5;28;01mif\u001b[39;00m (np\u001b[38;5;241m.\u001b[39mdiff(bins\u001b[38;5;241m.\u001b[39mastype(\u001b[38;5;124m\"\u001b[39m\u001b[38;5;124mfloat64\u001b[39m\u001b[38;5;124m\"\u001b[39m)) \u001b[38;5;241m<\u001b[39m \u001b[38;5;241m0\u001b[39m)\u001b[38;5;241m.\u001b[39many():\n\u001b[0;32m    291\u001b[0m         \u001b[38;5;28;01mraise\u001b[39;00m \u001b[38;5;167;01mValueError\u001b[39;00m(\u001b[38;5;124m\"\u001b[39m\u001b[38;5;124mbins must increase monotonically.\u001b[39m\u001b[38;5;124m\"\u001b[39m)\n\u001b[1;32m--> 293\u001b[0m fac, bins \u001b[38;5;241m=\u001b[39m \u001b[43m_bins_to_cuts\u001b[49m\u001b[43m(\u001b[49m\n\u001b[0;32m    294\u001b[0m \u001b[43m    \u001b[49m\u001b[43mx\u001b[49m\u001b[43m,\u001b[49m\n\u001b[0;32m    295\u001b[0m \u001b[43m    \u001b[49m\u001b[43mbins\u001b[49m\u001b[43m,\u001b[49m\n\u001b[0;32m    296\u001b[0m \u001b[43m    \u001b[49m\u001b[43mright\u001b[49m\u001b[38;5;241;43m=\u001b[39;49m\u001b[43mright\u001b[49m\u001b[43m,\u001b[49m\n\u001b[0;32m    297\u001b[0m \u001b[43m    \u001b[49m\u001b[43mlabels\u001b[49m\u001b[38;5;241;43m=\u001b[39;49m\u001b[43mlabels\u001b[49m\u001b[43m,\u001b[49m\n\u001b[0;32m    298\u001b[0m \u001b[43m    \u001b[49m\u001b[43mprecision\u001b[49m\u001b[38;5;241;43m=\u001b[39;49m\u001b[43mprecision\u001b[49m\u001b[43m,\u001b[49m\n\u001b[0;32m    299\u001b[0m \u001b[43m    \u001b[49m\u001b[43minclude_lowest\u001b[49m\u001b[38;5;241;43m=\u001b[39;49m\u001b[43minclude_lowest\u001b[49m\u001b[43m,\u001b[49m\n\u001b[0;32m    300\u001b[0m \u001b[43m    \u001b[49m\u001b[43mdtype\u001b[49m\u001b[38;5;241;43m=\u001b[39;49m\u001b[43mdtype\u001b[49m\u001b[43m,\u001b[49m\n\u001b[0;32m    301\u001b[0m \u001b[43m    \u001b[49m\u001b[43mduplicates\u001b[49m\u001b[38;5;241;43m=\u001b[39;49m\u001b[43mduplicates\u001b[49m\u001b[43m,\u001b[49m\n\u001b[0;32m    302\u001b[0m \u001b[43m    \u001b[49m\u001b[43mordered\u001b[49m\u001b[38;5;241;43m=\u001b[39;49m\u001b[43mordered\u001b[49m\u001b[43m,\u001b[49m\n\u001b[0;32m    303\u001b[0m \u001b[43m\u001b[49m\u001b[43m)\u001b[49m\n\u001b[0;32m    305\u001b[0m \u001b[38;5;28;01mreturn\u001b[39;00m _postprocess_for_cut(fac, bins, retbins, dtype, original)\n",
      "File \u001b[1;32m~\\anaconda4\\Lib\\site-packages\\pandas\\core\\reshape\\tile.py:454\u001b[0m, in \u001b[0;36m_bins_to_cuts\u001b[1;34m(x, bins, right, labels, precision, include_lowest, dtype, duplicates, ordered)\u001b[0m\n\u001b[0;32m    452\u001b[0m \u001b[38;5;28;01melse\u001b[39;00m:\n\u001b[0;32m    453\u001b[0m     \u001b[38;5;28;01mif\u001b[39;00m \u001b[38;5;28mlen\u001b[39m(labels) \u001b[38;5;241m!=\u001b[39m \u001b[38;5;28mlen\u001b[39m(bins) \u001b[38;5;241m-\u001b[39m \u001b[38;5;241m1\u001b[39m:\n\u001b[1;32m--> 454\u001b[0m         \u001b[38;5;28;01mraise\u001b[39;00m \u001b[38;5;167;01mValueError\u001b[39;00m(\n\u001b[0;32m    455\u001b[0m             \u001b[38;5;124m\"\u001b[39m\u001b[38;5;124mBin labels must be one fewer than the number of bin edges\u001b[39m\u001b[38;5;124m\"\u001b[39m\n\u001b[0;32m    456\u001b[0m         )\n\u001b[0;32m    457\u001b[0m \u001b[38;5;28;01mif\u001b[39;00m \u001b[38;5;129;01mnot\u001b[39;00m is_categorical_dtype(labels):\n\u001b[0;32m    458\u001b[0m     labels \u001b[38;5;241m=\u001b[39m Categorical(\n\u001b[0;32m    459\u001b[0m         labels,\n\u001b[0;32m    460\u001b[0m         categories\u001b[38;5;241m=\u001b[39mlabels \u001b[38;5;28;01mif\u001b[39;00m \u001b[38;5;28mlen\u001b[39m(\u001b[38;5;28mset\u001b[39m(labels)) \u001b[38;5;241m==\u001b[39m \u001b[38;5;28mlen\u001b[39m(labels) \u001b[38;5;28;01melse\u001b[39;00m \u001b[38;5;28;01mNone\u001b[39;00m,\n\u001b[0;32m    461\u001b[0m         ordered\u001b[38;5;241m=\u001b[39mordered,\n\u001b[0;32m    462\u001b[0m     )\n",
      "\u001b[1;31mValueError\u001b[0m: Bin labels must be one fewer than the number of bin edges"
     ]
    }
   ],
   "source": [
    "import os\n",
    "import numpy as np\n",
    "import pandas as pd\n",
    "\n",
    "\n",
    "# Função para ler o arquivo CSV e carregar os dados em memória\n",
    "def ler_dados_do_arquivo(arquivo):\n",
    "    return pd.read_csv(arquivo)\n",
    "\n",
    "# Função para calcular a distribuição da doença por sexo\n",
    "def calcular_distribuicao_por_sexo(dados):\n",
    "    distribuicao_sexo = dados['gender'].value_counts()\n",
    "    return distribuicao_sexo\n",
    "\n",
    "# Função para calcular a distribuição da doença por escalões etários\n",
    "def calcular_distribuicao_por_idade(dados):\n",
    "    bins = [0, 10, 25, 30, 35, 40, 45, 50, 55, 60, 65, 70, 75, 80, 100]\n",
    "    labels = ['[0-10]', '[11-24]', '[25-29]', '[30-34]', '[35-39]', '[40-44]', '[45-50]', '[51-55]', '[56-60]', '[61-65]', '[66-70]', '[71-75]', '[76-80]', '[81+]']\n",
    "    dados['age'] = pd.cut(dados['age'], bins=bins, labels=labels)\n",
    "    distribuicao_idade = dados['age'].value_counts().sort_index()\n",
    "    return distribuicao_idade\n",
    "\n",
    "# Função para calcular a distribuição da doença por níveis de glicose\n",
    "def calcular_distribuicao_por_glicose(dados, intervalo=10):\n",
    "    min_glicose = dados['blood_glucose_level'].min()\n",
    "    max_glicose = dados['blood_glucose_level'].max()\n",
    "    bins = range(min_glicose, max_glicose + intervalo, intervalo)\n",
    "    labels = [f'{x}-{x+intervalo-1}' for x in bins]\n",
    "    dados['blood_glucose_level'] = pd.cut(dados['blood_glucose_level'], bins=bins, labels=labels)\n",
    "    distribuicao_glicose = dados['blood_glucose_level'].value_counts().sort_index()\n",
    "    return distribuicao_glicose\n",
    "\n",
    "# Função para imprimir uma distribuição na forma de tabela\n",
    "def imprimir_distribuicao(distribuicao, titulo):\n",
    "    print(titulo)\n",
    "    print(distribuicao)\n",
    "    print()\n",
    "\n",
    "# Nome do arquivo CSV com os dados\n",
    "arquivo_dados = 'diabetes_prediction_dataset.csv'\n",
    "\n",
    "# Lê os dados do arquivo\n",
    "dados = ler_dados_do_arquivo(arquivo_dados)\n",
    "\n",
    "# Calcula as distribuições\n",
    "distribuicao_sexo = calcular_distribuicao_por_sexo(dados)\n",
    "distribuicao_idade = calcular_distribuicao_por_idade(dados)\n",
    "distribuicao_glicose = calcular_distribuicao_por_glicose(dados)\n",
    "\n",
    "# Imprime as distribuições\n",
    "imprimir_distribuicao(distribuicao_sexo, 'Distribuição por Sexo')\n",
    "imprimir_distribuicao(distribuicao_idade, 'Distribuição por Escalões Etários')\n",
    "imprimir_distribuicao(distribuicao_glicose, 'Distribuição por Níveis de Glicose')"
   ]
  },
  {
   "cell_type": "code",
   "execution_count": null,
   "id": "d91380f3",
   "metadata": {},
   "outputs": [],
   "source": []
  }
 ],
 "metadata": {
  "kernelspec": {
   "display_name": "Python 3 (ipykernel)",
   "language": "python",
   "name": "python3"
  },
  "language_info": {
   "codemirror_mode": {
    "name": "ipython",
    "version": 3
   },
   "file_extension": ".py",
   "mimetype": "text/x-python",
   "name": "python",
   "nbconvert_exporter": "python",
   "pygments_lexer": "ipython3",
   "version": "3.11.4"
  }
 },
 "nbformat": 4,
 "nbformat_minor": 5
}
