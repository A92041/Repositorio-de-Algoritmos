{
 "cells": [
  {
   "cell_type": "markdown",
   "id": "f23011e4",
   "metadata": {},
   "source": [
    "# Manifesto TPC3\n",
    "\n",
    "## Algoritmos\n",
    "\n",
    "* Título: Jogo: Adivinha o nº em que pensei\n",
    "* Data de início: 2023-09-26\n",
    "* Data de fim: 2023-10-03\n",
    "* Supervisor:José Carlos Leite Ramalho, jcr@di.uminho.pt\n",
    "* Autor: Marta Cristina Nunes Silva A92041\n",
    "* Resumo: Este trabalho tem como objetivo desenvolver um jogo em que o computador adivinha o número em que estamos a pensar e indicar no final o número de tentativas que foram necessárias para adivinhar o número."
   ]
  },
  {
   "cell_type": "code",
   "execution_count": 8,
   "id": "6b7ae392",
   "metadata": {},
   "outputs": [
    {
     "name": "stdout",
     "output_type": "stream",
     "text": [
      "Escolhe um numero entre 0 e 100\n",
      "o numero que pensou é o 50 não\n",
      "o número é maior ou menor do que 50 , escreva maior ou menor:menor\n",
      "o numero que pensou é o 25 não\n",
      "o número é maior ou menor do que 25 , escreva maior ou menor:menor\n",
      "o numero que pensou é o 12 sim\n",
      "o seu número foi adivinhado em 2 tentativas\n"
     ]
    }
   ],
   "source": [
    "def jogo():\n",
    "    print(\"Escolhe um numero entre 0 e 100\")\n",
    "    tentativas = 0\n",
    "    max=100\n",
    "    min=0\n",
    "    resultado=0\n",
    "    while resultado == 0:\n",
    "        intervalo = max + min\n",
    "        media = input(\"o numero que pensou é o \"+str(int(intervalo/2))+\" \")\n",
    "        media = media.upper()\n",
    "        if media == \"SIM\":\n",
    "            resultado = intervalo/2\n",
    "        elif media == \"NÃO\":\n",
    "            maiormenor = input(\"o número é maior ou menor do que \"+str(int(intervalo/2))+\" , \"+\"escreva maior ou menor:\")\n",
    "            maiormenor = maiormenor.upper()\n",
    "            if maiormenor == \"MAIOR\":\n",
    "                min=int((intervalo)/2)\n",
    "            elif maiormenor == \"MENOR\":\n",
    "                max=int((intervalo)/2)\n",
    "            tentativas += 1\n",
    "    n1=tentativas\n",
    "    print(\"o seu número foi adivinhado em \"+str(n1)+\" tentativas\")\n",
    "jogo()"
   ]
  },
  {
   "cell_type": "markdown",
   "id": "016224c6",
   "metadata": {},
   "source": [
    "##### Que conclusão podes tirar sobre o número de tentativas necessárias para um número entre 0 e 100? E se fosse entre 0 e 1000?"
   ]
  },
  {
   "cell_type": "code",
   "execution_count": 9,
   "id": "f10878de",
   "metadata": {},
   "outputs": [
    {
     "name": "stdout",
     "output_type": "stream",
     "text": [
      "Escolhe um numero entre 0 e 1000 \n",
      "o numero que pensou é o 500 não\n",
      "o número é maior ou menor do que 500 , escreva maior ou menor:menor\n",
      "o numero que pensou é o 250 não\n",
      "o número é maior ou menor do que 250 , escreva maior ou menor:menor\n",
      "o numero que pensou é o 125 não\n",
      "o número é maior ou menor do que 125 , escreva maior ou menor:menor\n",
      "o numero que pensou é o 62 não\n",
      "o número é maior ou menor do que 62 , escreva maior ou menor:menor\n",
      "o numero que pensou é o 31 não\n",
      "o número é maior ou menor do que 31 , escreva maior ou menor:menor\n",
      "o numero que pensou é o 15 não\n",
      "o número é maior ou menor do que 15 , escreva maior ou menor:menor\n",
      "o numero que pensou é o 7 não\n",
      "o número é maior ou menor do que 7 , escreva maior ou menor:maior\n",
      "o numero que pensou é o 11 não\n",
      "o número é maior ou menor do que 11 , escreva maior ou menor:maior\n",
      "o numero que pensou é o 13 não\n",
      "o número é maior ou menor do que 13 , escreva maior ou menor:menor\n",
      "o numero que pensou é o 12 sim\n",
      "o seu número foi adivinhado em 9 tentativas\n"
     ]
    }
   ],
   "source": [
    "from collections import Counter\n",
    "\n",
    "def jogo():\n",
    "    print(\"Escolhe um numero entre 0 e 1000 \")\n",
    "    tentativas = 0\n",
    "    max=1000\n",
    "    min=0\n",
    "    resultado=0\n",
    "    while resultado == 0:\n",
    "        intervalo = max + min\n",
    "        media = input(\"o numero que pensou é o \"+str(int(intervalo/2))+\" \")\n",
    "        media = media.upper()\n",
    "        if media == \"SIM\":\n",
    "            resultado = intervalo/2\n",
    "        elif media == \"NÃO\":\n",
    "            maiormenor = input(\"o número é maior ou menor do que \"+str(int(intervalo/2))+\" , \"+\"escreva maior ou menor:\")\n",
    "            maiormenor = maiormenor.upper()\n",
    "            if maiormenor == \"MAIOR\":\n",
    "                min=int((intervalo)/2)\n",
    "            elif maiormenor == \"MENOR\":\n",
    "                max=int((intervalo)/2)\n",
    "            tentativas += 1\n",
    "    n1=tentativas\n",
    "    print(\"o seu número foi adivinhado em \"+str(n1)+\" tentativas\")\n",
    "jogo()"
   ]
  },
  {
   "cell_type": "markdown",
   "id": "1301ea9e",
   "metadata": {},
   "source": [
    "###### Quando o intervalo passou a ser de 0 a 1000, foram necessárias mais tentativas para encontrar o número em que pensei considerando o mesmo número para os dois intervalos ( de 0 a 100 e de 0 a 1000)."
   ]
  },
  {
   "cell_type": "code",
   "execution_count": null,
   "id": "ea3b830f",
   "metadata": {},
   "outputs": [],
   "source": []
  }
 ],
 "metadata": {
  "kernelspec": {
   "display_name": "Python 3 (ipykernel)",
   "language": "python",
   "name": "python3"
  },
  "language_info": {
   "codemirror_mode": {
    "name": "ipython",
    "version": 3
   },
   "file_extension": ".py",
   "mimetype": "text/x-python",
   "name": "python",
   "nbconvert_exporter": "python",
   "pygments_lexer": "ipython3",
   "version": "3.11.4"
  }
 },
 "nbformat": 4,
 "nbformat_minor": 5
}
